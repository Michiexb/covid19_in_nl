{
 "cells": [
  {
   "cell_type": "markdown",
   "metadata": {},
   "source": [
    "# Getting RIVM stats on COVID-19 cases in NL and send it via Telegram "
   ]
  },
  {
   "cell_type": "markdown",
   "metadata": {},
   "source": [
    "Scrapping the page:"
   ]
  },
  {
   "cell_type": "code",
   "execution_count": 1,
   "metadata": {},
   "outputs": [
    {
     "name": "stdout",
     "output_type": "stream",
     "text": [
      "Last update from the RIVM page: 21-3-2020 14.00\n"
     ]
    }
   ],
   "source": [
    "import cfscrape\n",
    "from lxml import etree\n",
    "\n",
    "url=\"https://www.rivm.nl/coronavirus-kaart-van-nederland-per-gemeente\"\n",
    "\n",
    "header = {'Accept': 'text/html,application/xhtml+xml,application/xml;q=0.9',\n",
    "          'Accept-Encoding': 'gzip, deflate, sdch',\n",
    "          'Accept-Language' : 'nl-NL,nl;q=0.8,en-US;q=0.6,en;q=0.4',\n",
    "          'Cache-Control' : 'max-age=0',\n",
    "          'Connection': 'keep-alive',\n",
    "          'User-Agent': 'Mozilla/5.0 (X11; Linux x86_64) AppleWebKit/537.36 (KHTML, like Gecko) Chrome/43.0.2357.81 Safari/537.36'}\n",
    "\n",
    "scraper = cfscrape.create_scraper()\n",
    "scraped_html=scraper.get(url,headers=header).content\n",
    "html = etree.HTML(scraped_html)\n",
    "\n",
    "date = html.xpath(\"//div[@id='mapTitles']/text()\")[0].split('tot en met ')[1].split('\"')[0]\n",
    "time = html.xpath(\"//p/text()\")[0].split()[5]\n",
    "data = html.xpath(\"//div[@id='csvData']/text()\")\n",
    "\n",
    "print(\"Last update from the RIVM page:\",date,time)"
   ]
  },
  {
   "cell_type": "markdown",
   "metadata": {},
   "source": [
    "Loading the data in a dataframe:"
   ]
  },
  {
   "cell_type": "code",
   "execution_count": 2,
   "metadata": {},
   "outputs": [],
   "source": [
    "import pandas as pd\n",
    "import io\n",
    "df = pd.read_csv(io.StringIO('\\n'.join(str(data[0]).split('\\n')[1:])), sep=';')"
   ]
  },
  {
   "cell_type": "markdown",
   "metadata": {},
   "source": [
    "Workaround to get cases in 'unknown' municipalities:"
   ]
  },
  {
   "cell_type": "code",
   "execution_count": 3,
   "metadata": {},
   "outputs": [],
   "source": [
    "import re\n",
    "aantal_unknown_gemeente = int(re.findall(r'\\d+',df['Gemeente'][0])[0])\n",
    "df.loc[0,'Gemeente']='Unknown'\n",
    "df.loc[0,'Aantal']= aantal_unknown_gemeente"
   ]
  },
  {
   "cell_type": "markdown",
   "metadata": {},
   "source": [
    "Test whether Gemeente name exists:"
   ]
  },
  {
   "cell_type": "code",
   "execution_count": 134,
   "metadata": {},
   "outputs": [
    {
     "data": {
      "text/html": [
       "<div>\n",
       "<style scoped>\n",
       "    .dataframe tbody tr th:only-of-type {\n",
       "        vertical-align: middle;\n",
       "    }\n",
       "\n",
       "    .dataframe tbody tr th {\n",
       "        vertical-align: top;\n",
       "    }\n",
       "\n",
       "    .dataframe thead th {\n",
       "        text-align: right;\n",
       "    }\n",
       "</style>\n",
       "<table border=\"1\" class=\"dataframe\">\n",
       "  <thead>\n",
       "    <tr style=\"text-align: right;\">\n",
       "      <th></th>\n",
       "      <th>Gemnr</th>\n",
       "      <th>Gemeente</th>\n",
       "      <th>Aantal</th>\n",
       "      <th>BevAant</th>\n",
       "      <th>Aantal per 100.000 inwoners</th>\n",
       "    </tr>\n",
       "  </thead>\n",
       "  <tbody>\n",
       "    <tr>\n",
       "      <th>348</th>\n",
       "      <td>637</td>\n",
       "      <td>Zoetermeer</td>\n",
       "      <td>4</td>\n",
       "      <td>124944.0</td>\n",
       "      <td>3.2</td>\n",
       "    </tr>\n",
       "  </tbody>\n",
       "</table>\n",
       "</div>"
      ],
      "text/plain": [
       "     Gemnr    Gemeente  Aantal   BevAant  Aantal per 100.000 inwoners\n",
       "348    637  Zoetermeer       4  124944.0                          3.2"
      ]
     },
     "execution_count": 134,
     "metadata": {},
     "output_type": "execute_result"
    }
   ],
   "source": [
    "df[df['Gemeente']=='Zoetermeer']"
   ]
  },
  {
   "cell_type": "markdown",
   "metadata": {},
   "source": [
    "Defining the list of municipalities that were requested in the Telegram group:"
   ]
  },
  {
   "cell_type": "code",
   "execution_count": 135,
   "metadata": {},
   "outputs": [],
   "source": [
    "gemeentes_requested=['Utrecht',\n",
    "                    'Enschede',\n",
    "                    'Haarlemmermeer',\n",
    "                    'Houten',\n",
    "                    'Leiden',\n",
    "                    'Arnhem',\n",
    "                    'Ridderkerk',\n",
    "                    'Zuidplas',\n",
    "                    'Nieuwegein',\n",
    "                    'Leusden',\n",
    "                    'Rheden',\n",
    "                    'Amersfoort',\n",
    "                    'Woerden',\n",
    "                    'Epe',\n",
    "                    'Altena',\n",
    "                    'Apeldoorn',\n",
    "                    'Nijmegen',\n",
    "                    'Zoetermeer']\n",
    "gemeentes_requested.sort()"
   ]
  },
  {
   "cell_type": "markdown",
   "metadata": {},
   "source": [
    "Querying the data for each municipality and composing the message:"
   ]
  },
  {
   "cell_type": "code",
   "execution_count": 139,
   "metadata": {},
   "outputs": [
    {
     "name": "stdout",
     "output_type": "stream",
     "text": [
      "RIVM last-update: 21-3-2020\n",
      "RIVM updates their Website at 14:00\n",
      "https://www.rivm.nl/coronavirus-kaart-van-nederland-per-gemeente\n",
      "We send you hourly messages (from 8-21)!\n",
      "\n",
      "- TOTAL CASES IN NL: 3631\n",
      "- Cases in Altena: 22\n",
      "- Cases in Amersfoort: 37\n",
      "- Cases in Apeldoorn: 16\n",
      "- Cases in Arnhem: 15\n",
      "- Cases in Enschede: 16\n",
      "- Cases in Epe: 6\n",
      "- Cases in Haarlemmermeer: 12\n",
      "- Cases in Houten: 19\n",
      "- Cases in Leiden: 16\n",
      "- Cases in Leusden: 6\n",
      "- Cases in Nieuwegein: 9\n",
      "- Cases in Nijmegen: 60\n",
      "- Cases in Rheden: 7\n",
      "- Cases in Ridderkerk: 4\n",
      "- Cases in Utrecht: 121\n",
      "- Cases in Woerden: 6\n",
      "- Cases in Zoetermeer: 4\n",
      "- Cases in Zuidplas: 1\n",
      "\n",
      "Note: RIVM stated that \"the actual number of infections with COVID-19 is higher than the number of reports in this update because not everyone suspected of a COVID-19 infection is tested.\"\n",
      "\n",
      "Which municipality should I add here?\n",
      "Your request will appear in the next hour. Or not 😀\n"
     ]
    }
   ],
   "source": [
    "message=\"RIVM last-update: \"+ date + \"\\n\"\n",
    "message+=\"RIVM updates their Website at 14:00\\n\"\n",
    "message+=\"https://www.rivm.nl/coronavirus-kaart-van-nederland-per-gemeente\\n\"\n",
    "message+=\"We send you hourly messages (from 8-21)!\\n\"\n",
    "\n",
    "aantal_total = df['Aantal'].sum()\n",
    "message+=\"\\n- TOTAL CASES IN NL: \" + str(aantal_total) +\"\\n\"\n",
    "\n",
    "for gemeente in gemeentes_requested:\n",
    "    message += \"- Cases in \"+gemeente+\": \"+str(df[df['Gemeente']==gemeente]['Aantal'].values[0])+\"\\n\"\n",
    "\n",
    "message+=\"\\nNote: RIVM stated that \\\"the actual number of infections with COVID-19 is higher than the number of reports in this update because not everyone suspected of a COVID-19 infection is tested.\\\"\\n\"\n",
    "message+=\"\\nWhich municipality should I add here?\\nYour request will appear in the next hour. Or not \\U0001f600\"\n",
    "print(message)          \n"
   ]
  },
  {
   "cell_type": "markdown",
   "metadata": {},
   "source": [
    "Function to send a Telegram message:"
   ]
  },
  {
   "cell_type": "code",
   "execution_count": 38,
   "metadata": {},
   "outputs": [],
   "source": [
    "import requests\n",
    "def telegram_bot_sendtext(bot_message,token,chatid):\n",
    "    bot_token = token\n",
    "    bot_chatID = chatid\n",
    "    send_text = 'https://api.telegram.org/bot' + bot_token + '/sendMessage?chat_id=' + bot_chatID + '&parse_mode=Markdown&text=' + bot_message\n",
    "    response = requests.get(send_text)\n",
    "    if response.json()['ok']:\n",
    "        return \"Message Sent!\"\n",
    "    else:\n",
    "        return \"Message failed to be sent!\""
   ]
  },
  {
   "cell_type": "markdown",
   "metadata": {},
   "source": [
    "Instantiating the function and sending a Telegram message:"
   ]
  },
  {
   "cell_type": "code",
   "execution_count": 132,
   "metadata": {},
   "outputs": [
    {
     "data": {
      "text/plain": [
       "'Message Sent!'"
      ]
     },
     "execution_count": 132,
     "metadata": {},
     "output_type": "execute_result"
    }
   ],
   "source": [
    "bot_token = '735833549:AAH40xNnmV7MzSRNtssydxKzgCHmx63YGeo'\n",
    "bot_chatID = '-348129225'\n",
    "telegram_bot_sendtext(message,bot_token,bot_chatID)"
   ]
  },
  {
   "cell_type": "markdown",
   "metadata": {},
   "source": [
    "Saving the data if it is a new day:"
   ]
  },
  {
   "cell_type": "code",
   "execution_count": 140,
   "metadata": {},
   "outputs": [],
   "source": [
    "import pathlib\n",
    "file_name = pathlib.Path('/Users/santannajj/Desktop/crawling_stats_from_rivm_covid19/data/covid19-nl-'+date+'-'+time+'-'+str(aantal_total)+'.csv')\n",
    "if not file_name.exists ():\n",
    "    df.to_csv(file_name, index = False)\n",
    "else:\n",
    "    \"Th"
   ]
  },
  {
   "cell_type": "markdown",
   "metadata": {},
   "source": [
    "Crontab line:\n",
    "```\n",
    "5 08-21 * * * /usr/local/bin/python3 /Users/santannajj/Desktop/crawling_stats_from_rivm_covid19/crawling_stats_from_rivm_covid19.py\n",
    "```"
   ]
  }
 ],
 "metadata": {
  "kernelspec": {
   "display_name": "Python 3",
   "language": "python",
   "name": "python3"
  },
  "language_info": {
   "codemirror_mode": {
    "name": "ipython",
    "version": 3
   },
   "file_extension": ".py",
   "mimetype": "text/x-python",
   "name": "python",
   "nbconvert_exporter": "python",
   "pygments_lexer": "ipython3",
   "version": "3.7.0"
  }
 },
 "nbformat": 4,
 "nbformat_minor": 2
}
