{
 "cells": [
  {
   "cell_type": "markdown",
   "metadata": {},
   "source": [
    "# Scrapping RIVM to get stats of COVID-19 cases in NL"
   ]
  },
  {
   "cell_type": "markdown",
   "metadata": {},
   "source": [
    "Scrapping the page:"
   ]
  },
  {
   "cell_type": "code",
   "execution_count": 1,
   "metadata": {},
   "outputs": [
    {
     "name": "stdout",
     "output_type": "stream",
     "text": [
      "Last update from the RIVM page: 20-3-2020 14.00\n"
     ]
    }
   ],
   "source": [
    "import cfscrape\n",
    "from lxml import etree\n",
    "\n",
    "url=\"https://www.rivm.nl/coronavirus-kaart-van-nederland-per-gemeente\"\n",
    "\n",
    "header = {'Accept': 'text/html,application/xhtml+xml,application/xml;q=0.9',\n",
    "          'Accept-Encoding': 'gzip, deflate, sdch',\n",
    "          'Accept-Language' : 'nl-NL,nl;q=0.8,en-US;q=0.6,en;q=0.4',\n",
    "          'Cache-Control' : 'max-age=0',\n",
    "          'Connection': 'keep-alive',\n",
    "          'User-Agent': 'Mozilla/5.0 (X11; Linux x86_64) AppleWebKit/537.36 (KHTML, like Gecko) Chrome/43.0.2357.81 Safari/537.36'}\n",
    "\n",
    "scraper = cfscrape.create_scraper()\n",
    "scraped_html=scraper.get(url,headers=header).content\n",
    "html = etree.HTML(scraped_html)\n",
    "\n",
    "date = html.xpath(\"//div[@id='mapTitles']/text()\")[0].split('tot en met ')[1].split('\"')[0]\n",
    "time = html.xpath(\"//p/text()\")[0].split()[5]\n",
    "data = html.xpath(\"//div[@id='csvData']/text()\")\n",
    "\n",
    "print(\"Last update from the RIVM page:\",date,time)"
   ]
  },
  {
   "cell_type": "markdown",
   "metadata": {},
   "source": [
    "Loading the data in a dataframe:"
   ]
  },
  {
   "cell_type": "code",
   "execution_count": 2,
   "metadata": {},
   "outputs": [],
   "source": [
    "import pandas as pd\n",
    "import io\n",
    "df = pd.read_csv(io.StringIO('\\n'.join(str(data[0]).split('\\n')[1:])), sep=';')"
   ]
  },
  {
   "cell_type": "markdown",
   "metadata": {},
   "source": [
    "Workaround to get cases in 'unknown' municipalities:"
   ]
  },
  {
   "cell_type": "code",
   "execution_count": 3,
   "metadata": {},
   "outputs": [],
   "source": [
    "import re\n",
    "aantal_unknown_gemeente = int(re.findall(r'\\d+',df['Gemeente'][0])[0])\n",
    "df.loc[0,'Gemeente']='Unknown'\n",
    "df.loc[0,'Aantal']= aantal_unknown_gemeente"
   ]
  },
  {
   "cell_type": "markdown",
   "metadata": {},
   "source": [
    "Getting summary (Total, Utrecht, and Enschede):"
   ]
  },
  {
   "cell_type": "code",
   "execution_count": 4,
   "metadata": {},
   "outputs": [
    {
     "name": "stdout",
     "output_type": "stream",
     "text": [
      "Last update from RIVM (20-3-2020 at 14.00)\n",
      "https://www.rivm.nl/coronavirus-kaart-van-nederland-per-gemeente\n",
      "Total cases in NL: 2994\n",
      "Cases in Enschede: 8\n",
      "Cases in Utrecht: 101\n"
     ]
    }
   ],
   "source": [
    "aantal_utrecht = df[df['Gemeente']=='Utrecht']['Aantal'].values[0]\n",
    "aantal_enschede = df[df['Gemeente']=='Enschede']['Aantal'].values[0]\n",
    "aantal_total = df['Aantal'].sum()\n",
    "\n",
    "summary = \"Last update from RIVM (\"+ date + \" at \"+time+\")\" +\\\n",
    "            \"\\nhttps://www.rivm.nl/coronavirus-kaart-van-nederland-per-gemeente\"+\\\n",
    "            \"\\nTotal cases in NL: \" + str(aantal_total) +\\\n",
    "            \"\\nCases in Enschede: \"+str(aantal_enschede)+\\\n",
    "            \"\\nCases in Utrecht: \"+str(aantal_utrecht)\n",
    "print(summary)"
   ]
  },
  {
   "cell_type": "markdown",
   "metadata": {},
   "source": [
    "Exporting to CSV (for future usage of the data):"
   ]
  },
  {
   "cell_type": "code",
   "execution_count": 5,
   "metadata": {},
   "outputs": [],
   "source": [
    "import pathlib\n",
    "file_name = pathlib.Path('data/covid19-nl-'+date+'-'+time+'-'+str(aantal_total)+'.csv')\n",
    "if not file_name.exists ():\n",
    "    df.to_csv(file_name, index = False)"
   ]
  },
  {
   "cell_type": "markdown",
   "metadata": {},
   "source": [
    "Sending a Telegram message to the group:"
   ]
  },
  {
   "cell_type": "code",
   "execution_count": 6,
   "metadata": {},
   "outputs": [],
   "source": [
    "import requests\n",
    "def telegram_bot_sendtext(bot_message,token,chatid):\n",
    "    bot_token = token\n",
    "    bot_chatID = chatid\n",
    "    send_text = 'https://api.telegram.org/bot' + bot_token + '/sendMessage?chat_id=' + bot_chatID + '&parse_mode=Markdown&text=' + bot_message\n",
    "    response = requests.get(send_text)\n",
    "    if response.json()['ok']:\n",
    "        return \"Message Sent!\"\n",
    "    else:\n",
    "        return \"Message failed to be sent!\""
   ]
  },
  {
   "cell_type": "code",
   "execution_count": 7,
   "metadata": {},
   "outputs": [],
   "source": [
    "bot_token = ''\n",
    "bot_chatID = ''    "
   ]
  },
  {
   "cell_type": "code",
   "execution_count": 8,
   "metadata": {},
   "outputs": [
    {
     "data": {
      "text/plain": [
       "'Message Sent!'"
      ]
     },
     "execution_count": 8,
     "metadata": {},
     "output_type": "execute_result"
    }
   ],
   "source": [
    "telegram_bot_sendtext(summary,bot_token,bot_chatID)"
   ]
  }
 ],
 "metadata": {
  "kernelspec": {
   "display_name": "Python 3",
   "language": "python",
   "name": "python3"
  },
  "language_info": {
   "codemirror_mode": {
    "name": "ipython",
    "version": 3
   },
   "file_extension": ".py",
   "mimetype": "text/x-python",
   "name": "python",
   "nbconvert_exporter": "python",
   "pygments_lexer": "ipython3",
   "version": "3.7.0"
  }
 },
 "nbformat": 4,
 "nbformat_minor": 2
}
