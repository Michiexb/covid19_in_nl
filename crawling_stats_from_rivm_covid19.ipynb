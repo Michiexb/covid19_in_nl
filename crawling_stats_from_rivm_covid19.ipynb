{
 "cells": [
  {
   "cell_type": "markdown",
   "metadata": {},
   "source": [
    "# Getting RIVM stats on COVID-19 cases in NL and send it via Telegram "
   ]
  },
  {
   "cell_type": "markdown",
   "metadata": {},
   "source": [
    "Scrapping the page:"
   ]
  },
  {
   "cell_type": "code",
   "execution_count": 1,
   "metadata": {},
   "outputs": [
    {
     "name": "stdout",
     "output_type": "stream",
     "text": [
      "Last update from the RIVM page: 22-03-2020 14.00\n"
     ]
    }
   ],
   "source": [
    "import pandas as pd\n",
    "import cfscrape\n",
    "from lxml import etree\n",
    "\n",
    "url=\"https://www.rivm.nl/coronavirus-kaart-van-nederland-per-gemeente\"\n",
    "\n",
    "header = {'Accept': 'text/html,application/xhtml+xml,application/xml;q=0.9',\n",
    "          'Accept-Encoding': 'gzip, deflate, sdch',\n",
    "          'Accept-Language' : 'nl-NL,nl;q=0.8,en-US;q=0.6,en;q=0.4',\n",
    "          'Cache-Control' : 'max-age=0',\n",
    "          'Connection': 'keep-alive',\n",
    "          'User-Agent': 'Mozilla/5.0 (X11; Linux x86_64) AppleWebKit/537.36 (KHTML, like Gecko) Chrome/43.0.2357.81 Safari/537.36'}\n",
    "\n",
    "scraper = cfscrape.create_scraper()\n",
    "scraped_html=scraper.get(url,headers=header).content\n",
    "html = etree.HTML(scraped_html)\n",
    "\n",
    "date = html.xpath(\"//div[@id='mapTitles']/text()\")[0].split('tot en met ')[1].split('\"')[0]\n",
    "date = pd.to_datetime(date, format='%d-%m-%Y').strftime('%d-%m-%Y')\n",
    "time = html.xpath(\"//p/text()\")[0].split()[5]\n",
    "\n",
    "data = html.xpath(\"//div[@id='csvData']/text()\")\n",
    "\n",
    "print(\"Last update from the RIVM page:\",date,time)"
   ]
  },
  {
   "cell_type": "markdown",
   "metadata": {},
   "source": [
    "Loading the data in a dataframe:"
   ]
  },
  {
   "cell_type": "code",
   "execution_count": 4,
   "metadata": {},
   "outputs": [],
   "source": [
    "import pandas as pd\n",
    "import io\n",
    "import numpy as np\n",
    "df = pd.read_csv(io.StringIO('\\n'.join(str(data[0]).split('\\n')[1:])), sep=';')"
   ]
  },
  {
   "cell_type": "markdown",
   "metadata": {},
   "source": [
    "Workaround to get cases in 'unknown' municipalities:"
   ]
  },
  {
   "cell_type": "code",
   "execution_count": 5,
   "metadata": {},
   "outputs": [],
   "source": [
    "import re\n",
    "aantal_unknown_gemeente = int(re.findall(r'\\d+',html.xpath(\"//div[@class='container container-spacer-sm content nobg clearfix']/p/text()\")[3])[0])\n",
    "df.loc[0,'Gemeente']='Unknown'\n",
    "df.loc[0,'Aantal']= aantal_unknown_gemeente"
   ]
  },
  {
   "cell_type": "code",
   "execution_count": 6,
   "metadata": {},
   "outputs": [
    {
     "data": {
      "text/html": [
       "<div>\n",
       "<style scoped>\n",
       "    .dataframe tbody tr th:only-of-type {\n",
       "        vertical-align: middle;\n",
       "    }\n",
       "\n",
       "    .dataframe tbody tr th {\n",
       "        vertical-align: top;\n",
       "    }\n",
       "\n",
       "    .dataframe thead th {\n",
       "        text-align: right;\n",
       "    }\n",
       "</style>\n",
       "<table border=\"1\" class=\"dataframe\">\n",
       "  <thead>\n",
       "    <tr style=\"text-align: right;\">\n",
       "      <th></th>\n",
       "      <th>Gemnr</th>\n",
       "      <th>Gemeente</th>\n",
       "      <th>Aantal</th>\n",
       "      <th>BevAant</th>\n",
       "      <th>Aantal per 100.000 inwoners</th>\n",
       "    </tr>\n",
       "  </thead>\n",
       "  <tbody>\n",
       "    <tr>\n",
       "      <th>0</th>\n",
       "      <td>-1</td>\n",
       "      <td>Unknown</td>\n",
       "      <td>155</td>\n",
       "      <td>NaN</td>\n",
       "      <td>NaN</td>\n",
       "    </tr>\n",
       "    <tr>\n",
       "      <th>1</th>\n",
       "      <td>518</td>\n",
       "      <td>'s-Gravenhage</td>\n",
       "      <td>47</td>\n",
       "      <td>537833.0</td>\n",
       "      <td>8.7</td>\n",
       "    </tr>\n",
       "    <tr>\n",
       "      <th>2</th>\n",
       "      <td>796</td>\n",
       "      <td>'s-Hertogenbosch</td>\n",
       "      <td>55</td>\n",
       "      <td>154205.0</td>\n",
       "      <td>35.7</td>\n",
       "    </tr>\n",
       "    <tr>\n",
       "      <th>3</th>\n",
       "      <td>1680</td>\n",
       "      <td>Aa en Hunze</td>\n",
       "      <td>1</td>\n",
       "      <td>25386.0</td>\n",
       "      <td>3.9</td>\n",
       "    </tr>\n",
       "    <tr>\n",
       "      <th>4</th>\n",
       "      <td>358</td>\n",
       "      <td>Aalsmeer</td>\n",
       "      <td>7</td>\n",
       "      <td>31728.0</td>\n",
       "      <td>22.1</td>\n",
       "    </tr>\n",
       "  </tbody>\n",
       "</table>\n",
       "</div>"
      ],
      "text/plain": [
       "   Gemnr          Gemeente  Aantal   BevAant  Aantal per 100.000 inwoners\n",
       "0     -1           Unknown     155       NaN                          NaN\n",
       "1    518     's-Gravenhage      47  537833.0                          8.7\n",
       "2    796  's-Hertogenbosch      55  154205.0                         35.7\n",
       "3   1680       Aa en Hunze       1   25386.0                          3.9\n",
       "4    358          Aalsmeer       7   31728.0                         22.1"
      ]
     },
     "execution_count": 6,
     "metadata": {},
     "output_type": "execute_result"
    }
   ],
   "source": [
    "df.head()"
   ]
  },
  {
   "cell_type": "markdown",
   "metadata": {},
   "source": [
    "Loading previous day:"
   ]
  },
  {
   "cell_type": "code",
   "execution_count": 7,
   "metadata": {},
   "outputs": [
    {
     "data": {
      "text/plain": [
       "'21-03-2020'"
      ]
     },
     "execution_count": 7,
     "metadata": {},
     "output_type": "execute_result"
    }
   ],
   "source": [
    "previous_day = (pd.to_datetime(date, format='%d-%m-%Y') - np.timedelta64(1, 'D')).strftime('%d-%m-%Y')\n",
    "df_previous = pd.read_csv(\"data/covid19-nl-\"+str(previous_day)+\".csv\")\n",
    "previous_day"
   ]
  },
  {
   "cell_type": "markdown",
   "metadata": {},
   "source": [
    "Creating a list of requested Gemeentes:"
   ]
  },
  {
   "cell_type": "code",
   "execution_count": 8,
   "metadata": {},
   "outputs": [
    {
     "data": {
      "text/html": [
       "<div>\n",
       "<style scoped>\n",
       "    .dataframe tbody tr th:only-of-type {\n",
       "        vertical-align: middle;\n",
       "    }\n",
       "\n",
       "    .dataframe tbody tr th {\n",
       "        vertical-align: top;\n",
       "    }\n",
       "\n",
       "    .dataframe thead th {\n",
       "        text-align: right;\n",
       "    }\n",
       "</style>\n",
       "<table border=\"1\" class=\"dataframe\">\n",
       "  <thead>\n",
       "    <tr style=\"text-align: right;\">\n",
       "      <th></th>\n",
       "      <th>Gemnr</th>\n",
       "      <th>Gemeente</th>\n",
       "      <th>Aantal</th>\n",
       "      <th>BevAant</th>\n",
       "      <th>Aantal per 100.000 inwoners</th>\n",
       "    </tr>\n",
       "  </thead>\n",
       "  <tbody>\n",
       "    <tr>\n",
       "      <th>286</th>\n",
       "      <td>855</td>\n",
       "      <td>Tilburg</td>\n",
       "      <td>178</td>\n",
       "      <td>217259.0</td>\n",
       "      <td>81.9</td>\n",
       "    </tr>\n",
       "  </tbody>\n",
       "</table>\n",
       "</div>"
      ],
      "text/plain": [
       "     Gemnr Gemeente  Aantal   BevAant  Aantal per 100.000 inwoners\n",
       "286    855  Tilburg     178  217259.0                         81.9"
      ]
     },
     "execution_count": 8,
     "metadata": {},
     "output_type": "execute_result"
    }
   ],
   "source": [
    "df[df['Gemeente'].str.contains('Tilburg')]"
   ]
  },
  {
   "cell_type": "code",
   "execution_count": 9,
   "metadata": {},
   "outputs": [],
   "source": [
    "gemeentes_requested=['Utrecht',\n",
    "                    'Enschede',\n",
    "                    'Haarlemmermeer',\n",
    "                    'Houten',\n",
    "                    'Leiden',\n",
    "                    'Arnhem',\n",
    "                    'Ridderkerk',\n",
    "                    'Zuidplas',\n",
    "                    'Nieuwegein',\n",
    "                    'Leusden',\n",
    "                    'Rheden',\n",
    "                    'Amersfoort',\n",
    "                    'Woerden',\n",
    "                    'Epe',\n",
    "                    'Altena',\n",
    "                    'Apeldoorn',\n",
    "                    'Nijmegen',\n",
    "                    'Zoetermeer',\n",
    "                    'Breda',\n",
    "                    'Zwolle',\n",
    "                    'Montferland',\n",
    "                     'Doetinchem',\n",
    "                    'Oude IJsselstreek',\n",
    "                    'Bergen op Zoom',\n",
    "                    'Amstelveen',\n",
    "                    'Meppel',\n",
    "                    'Zwartewaterland',\n",
    "                    '\\'s-Gravenhage',\n",
    "                    'Oost Gelre',\n",
    "                    'Haarlem',\n",
    "                    'Amsterdam',\n",
    "                    'Tiel',\n",
    "                    'Hengelo (O)',\n",
    "                    '\\'s-Hertogenbosch',\n",
    "                    'Tilburg']\n",
    "gemeentes_requested.sort()"
   ]
  },
  {
   "cell_type": "markdown",
   "metadata": {},
   "source": [
    "Composing the message:"
   ]
  },
  {
   "cell_type": "code",
   "execution_count": 10,
   "metadata": {
    "scrolled": false
   },
   "outputs": [
    {
     "name": "stdout",
     "output_type": "stream",
     "text": [
      "COVID19 CASES IN THE NETHERLANDS\n",
      "HOURLY MESSAGES (From 8-21)!\n",
      "Source: https://www.rivm.nl/coronavirus-kaart-van-nederland-per-gemeente\n",
      "RIVM last update: 22-03-2020 14.00\n",
      "\n",
      " PREVIOUS >> CURRENT NUMBERS\n",
      "\n",
      "- TOTAL CASES IN NL: 3631 >> 4204\n",
      "- Cases in 's-Gravenhage: 44 >> 47\n",
      "- Cases in 's-Hertogenbosch: 45 >> 55\n",
      "- Cases in Altena: 22 >> 23\n",
      "- Cases in Amersfoort: 37 >> 37\n",
      "- Cases in Amstelveen: 26 >> 27\n",
      "- Cases in Amsterdam: 161 >> 188\n",
      "- Cases in Apeldoorn: 16 >> 17\n",
      "- Cases in Arnhem: 15 >> 16\n",
      "- Cases in Bergen op Zoom: 9 >> 10\n",
      "- Cases in Breda: 133 >> 140\n",
      "- Cases in Doetinchem: 5 >> 5\n",
      "- Cases in Enschede: 16 >> 18\n",
      "- Cases in Epe: 6 >> 8\n",
      "- Cases in Haarlem: 25 >> 27\n",
      "- Cases in Haarlemmermeer: 12 >> 16\n",
      "- Cases in Hengelo (O): 13 >> 15\n",
      "- Cases in Houten: 19 >> 23\n",
      "- Cases in Leiden: 16 >> 16\n",
      "- Cases in Leusden: 6 >> 6\n",
      "- Cases in Meppel: 1 >> 1\n",
      "- Cases in Montferland: 1 >> 2\n",
      "- Cases in Nieuwegein: 9 >> 9\n",
      "- Cases in Nijmegen: 60 >> 68\n",
      "- Cases in Oost Gelre: 2 >> 2\n",
      "- Cases in Oude IJsselstreek: 4 >> 4\n",
      "- Cases in Rheden: 7 >> 10\n",
      "- Cases in Ridderkerk: 4 >> 5\n",
      "- Cases in Tiel: 4 >> 5\n",
      "- Cases in Tilburg: 154 >> 178\n",
      "- Cases in Utrecht: 121 >> 131\n",
      "- Cases in Woerden: 6 >> 7\n",
      "- Cases in Zoetermeer: 4 >> 5\n",
      "- Cases in Zuidplas: 1 >> 3\n",
      "- Cases in Zwartewaterland: 15 >> 17\n",
      "- Cases in Zwolle: 23 >> 28\n",
      "\n",
      "Note: RIVM stated that \"the actual number of infections with COVID-19 is higher than the number of reports in this update because not everyone suspected of a COVID-19 infection is tested.\"\n",
      "\n",
      "TELEGRAM FAILS TO SHOW ALL 355 GEMEENTES!\n",
      "Which municipality should I add here?\n",
      "Your request will appear in the next hour.\n"
     ]
    }
   ],
   "source": [
    "message=\"COVID19 CASES IN THE NETHERLANDS\\n\"\n",
    "message+=\"HOURLY MESSAGES (From 8-21)!\\n\"\n",
    "message+=\"Source: https://www.rivm.nl/coronavirus-kaart-van-nederland-per-gemeente\\n\"\n",
    "message+=\"RIVM last update: \"+str(date)+\" \"+ str(time)+\"\\n\"\n",
    "\n",
    "message+=\"\\n PREVIOUS >> CURRENT NUMBERS\\n\"\n",
    "\n",
    "aantal_total = df['Aantal'].sum()\n",
    "message+=\"\\n- TOTAL CASES IN NL: \" + str(df_previous['Aantal'].sum()) + \" >> \"+str(aantal_total) +\"\\n\"\n",
    "\n",
    "for gemeente in gemeentes_requested:\n",
    "    message += \"- Cases in \"+gemeente+\": \"+str(df_previous[df_previous['Gemeente']==gemeente]['Aantal'].values[0])+\" >> \"+str(df[df['Gemeente']==gemeente]['Aantal'].values[0])+\"\\n\"\n",
    "\n",
    "message+=\"\\nNote: RIVM stated that \\\"the actual number of infections with COVID-19 is higher than the number of reports in this update because not everyone suspected of a COVID-19 infection is tested.\\\"\\n\"\n",
    "message+=\"\\nTELEGRAM FAILS TO SHOW ALL 355 GEMEENTES!\\nWhich municipality should I add here?\\nYour request will appear in the next hour.\"\n",
    "print(message)          \n"
   ]
  },
  {
   "cell_type": "markdown",
   "metadata": {},
   "source": [
    "Function to send a Telegram message:"
   ]
  },
  {
   "cell_type": "code",
   "execution_count": 11,
   "metadata": {},
   "outputs": [],
   "source": [
    "import requests\n",
    "def telegram_bot_sendtext(bot_message,token,chatid):\n",
    "    bot_token = token\n",
    "    bot_chatID = chatid\n",
    "    send_text = 'https://api.telegram.org/bot' + bot_token + '/sendMessage?chat_id=' + bot_chatID + '&parse_mode=Markdown&text=' + bot_message\n",
    "    response = requests.get(send_text)\n",
    "    if response.json()['ok']:\n",
    "        return \"Message Sent!\"\n",
    "    else:\n",
    "        return \"Message failed to be sent!\""
   ]
  },
  {
   "cell_type": "markdown",
   "metadata": {},
   "source": [
    "Instantiating the function and sending a Telegram message:"
   ]
  },
  {
   "cell_type": "code",
   "execution_count": 12,
   "metadata": {},
   "outputs": [
    {
     "data": {
      "text/plain": [
       "'Message Sent!'"
      ]
     },
     "execution_count": 12,
     "metadata": {},
     "output_type": "execute_result"
    }
   ],
   "source": [
    "telegram_bot_sendtext(message,bot_token,bot_chatID)"
   ]
  },
  {
   "cell_type": "markdown",
   "metadata": {},
   "source": [
    "Saving the data if it is a new day:"
   ]
  },
  {
   "cell_type": "code",
   "execution_count": 13,
   "metadata": {},
   "outputs": [
    {
     "name": "stdout",
     "output_type": "stream",
     "text": [
      "We already have this data!\n"
     ]
    }
   ],
   "source": [
    "import pathlib\n",
    "file_name = pathlib.Path('/Users/santannajj/Desktop/crawling_stats_from_rivm_covid19/data/covid19-nl-'+date+'.csv')\n",
    "if not file_name.exists ():\n",
    "    df.to_csv(file_name, index = False)\n",
    "else:\n",
    "    print(\"We already have this data!\")"
   ]
  },
  {
   "cell_type": "markdown",
   "metadata": {},
   "source": [
    "Crontab line:\n",
    "```\n",
    "5 08-21 * * * /usr/local/bin/python3 /Users/santannajj/Desktop/crawling_stats_from_rivm_covid19/crawling_stats_from_rivm_covid19.py\n",
    "```"
   ]
  }
 ],
 "metadata": {
  "kernelspec": {
   "display_name": "Python 3",
   "language": "python",
   "name": "python3"
  },
  "language_info": {
   "codemirror_mode": {
    "name": "ipython",
    "version": 3
   },
   "file_extension": ".py",
   "mimetype": "text/x-python",
   "name": "python",
   "nbconvert_exporter": "python",
   "pygments_lexer": "ipython3",
   "version": "3.7.0"
  }
 },
 "nbformat": 4,
 "nbformat_minor": 2
}
